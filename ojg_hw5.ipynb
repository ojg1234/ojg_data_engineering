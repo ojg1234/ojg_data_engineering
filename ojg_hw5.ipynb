{
 "cells": [
  {
   "cell_type": "code",
   "execution_count": 1,
   "id": "88aa3cf6-1d65-42a3-8cc5-b778cc68c0a5",
   "metadata": {},
   "outputs": [],
   "source": [
    "import numpy as np\n",
    "import pandas as pd\n",
    "import matplotlib.pyplot as plt\n",
    "import seaborn"
   ]
  },
  {
   "cell_type": "code",
   "execution_count": null,
   "id": "66444bca-7152-485e-93d4-6aacc2296ffc",
   "metadata": {},
   "outputs": [],
   "source": [
    "!conda install -y seaborn"
   ]
  },
  {
   "cell_type": "code",
   "execution_count": null,
   "id": "121aef43-d992-48f6-95bb-b387863a0634",
   "metadata": {},
   "outputs": [],
   "source": [
    "data = pd.read_csv('data/president_heights.csv')"
   ]
  },
  {
   "cell_type": "code",
   "execution_count": null,
   "id": "1bddb1b4-9613-466f-b419-4d62c8ac6dd3",
   "metadata": {},
   "outputs": [],
   "source": [
    "heights = np.array(data['height(cm)'])\n",
    "print(heights)"
   ]
  },
  {
   "cell_type": "code",
   "execution_count": null,
   "id": "cdd2486c-64fe-4a6f-9806-d97141f7998d",
   "metadata": {},
   "outputs": [],
   "source": [
    "print(\"Mean height =\" ,np.mean(heights))##평균\n",
    "print(\"Standard deviation =\",np.std(heights)) ## 표준편차\n",
    "print(\"Minimum height =\",np.min(heights))##최소값\n",
    "print(\"Maximum height =\",np.max(heights))##최대값\n",
    "print(\"25th percentile =\",np.percentile(heights, 25)) ##백분위 25퍼\n",
    "print(\"Median =\",np.median(heights))##중앙값\n",
    "print(\"75th percentile =\",np.percentile(heights, 75)) ##백분위 75퍼"
   ]
  },
  {
   "cell_type": "code",
   "execution_count": null,
   "id": "5bcd9bae-5fae-4f75-a234-83e387572382",
   "metadata": {},
   "outputs": [],
   "source": [
    "max_idx = np.argmax(heights) ##가장큰 값을가진 인덱스\n",
    "print(\"max_idx =\",max_idx)\n",
    "min_idx = np.argmin(heights)\n",
    "print(\"min_idx = \",min_idx)"
   ]
  },
  {
   "cell_type": "code",
   "execution_count": null,
   "id": "f533050e-819c-4aa2-a182-b31ac88d89c2",
   "metadata": {},
   "outputs": [],
   "source": [
    "max_name = data.iloc[max_idx]['name']\n",
    "min_name = data.iloc[min_idx]['name']\n",
    "print(\"The tallest president is\",max_name)\n",
    "print(\"The smallest president is\",min_name)"
   ]
  },
  {
   "cell_type": "code",
   "execution_count": null,
   "id": "144ba91a-073c-4adf-a3ec-18a641bd1343",
   "metadata": {},
   "outputs": [],
   "source": [
    "%matplotlib inline\n",
    "%config InlineBackend.figure_format = 'svg'\n",
    "seaborn.set()\n",
    "\n",
    "plt.hist(heights)\n",
    "plt.title('Height Distribution of US President')\n",
    "plt.xlabel('height (cm)')\n",
    "plt.ylabel('number')\n",
    "plt.show()"
   ]
  },
  {
   "cell_type": "code",
   "execution_count": null,
   "id": "2d6fabf5-805d-4abe-beba-848ff5405a54",
   "metadata": {},
   "outputs": [],
   "source": []
  }
 ],
 "metadata": {
  "kernelspec": {
   "display_name": "Python 3 (ipykernel)",
   "language": "python",
   "name": "python3"
  },
  "language_info": {
   "codemirror_mode": {
    "name": "ipython",
    "version": 3
   },
   "file_extension": ".py",
   "mimetype": "text/x-python",
   "name": "python",
   "nbconvert_exporter": "python",
   "pygments_lexer": "ipython3",
   "version": "3.9.12"
  }
 },
 "nbformat": 4,
 "nbformat_minor": 5
}
